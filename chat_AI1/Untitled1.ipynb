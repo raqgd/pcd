{
 "cells": [
  {
   "cell_type": "code",
   "execution_count": null,
   "id": "3f19e508-e673-4291-967f-b06a56135d65",
   "metadata": {},
   "outputs": [
    {
     "name": "stdin",
     "output_type": "stream",
     "text": [
      "Intoduzca la IP del servidor ?   192.168.83.1\n",
      "Intoduzca el PUERTO del servidor ?   64694\n",
      "Ingrese su nickname ? 221A4694@live.uem.es\n",
      "Escriba el mensaje  hola\n",
      "Introduce tu nombre de usuario:  raquel\n"
     ]
    },
    {
     "name": "stderr",
     "output_type": "stream",
     "text": [
      "C:\\Users\\Raque\\AppData\\Local\\Temp\\ipykernel_16944\\1712369380.py:19: DeprecationWarning: currentThread() is deprecated, use current_thread() instead\n",
      "  print('\\n\\tProceso con PID = ',os.getpid(), '\\n\\tHilo PRINCIPAL con ID =',threading.currentThread().getName(), '\\n\\tHilo en modo DAEMON = ', threading.currentThread().isDaemon(),'\\n\\tTotal Hilos activos en este punto del programa =', threading.active_count())\n",
      "C:\\Users\\Raque\\AppData\\Local\\Temp\\ipykernel_16944\\1712369380.py:19: DeprecationWarning: getName() is deprecated, get the name attribute instead\n",
      "  print('\\n\\tProceso con PID = ',os.getpid(), '\\n\\tHilo PRINCIPAL con ID =',threading.currentThread().getName(), '\\n\\tHilo en modo DAEMON = ', threading.currentThread().isDaemon(),'\\n\\tTotal Hilos activos en este punto del programa =', threading.active_count())\n",
      "C:\\Users\\Raque\\AppData\\Local\\Temp\\ipykernel_16944\\1712369380.py:19: DeprecationWarning: isDaemon() is deprecated, get the daemon attribute instead\n",
      "  print('\\n\\tProceso con PID = ',os.getpid(), '\\n\\tHilo PRINCIPAL con ID =',threading.currentThread().getName(), '\\n\\tHilo en modo DAEMON = ', threading.currentThread().isDaemon(),'\\n\\tTotal Hilos activos en este punto del programa =', threading.active_count())\n",
      "C:\\Users\\Raque\\AppData\\Local\\Temp\\ipykernel_16944\\1712369380.py:40: DeprecationWarning: currentThread() is deprecated, use current_thread() instead\n",
      "  print('\\nHilo RECIBIR con ID =',threading.currentThread().getName(), '\\n\\tPertenece al PROCESO con PID', os.getpid(), \"\\n\\tHilos activos TOTALES \", threading.active_count())\n",
      "C:\\Users\\Raque\\AppData\\Local\\Temp\\ipykernel_16944\\1712369380.py:40: DeprecationWarning: getName() is deprecated, get the name attribute instead\n",
      "  print('\\nHilo RECIBIR con ID =',threading.currentThread().getName(), '\\n\\tPertenece al PROCESO con PID', os.getpid(), \"\\n\\tHilos activos TOTALES \", threading.active_count())\n"
     ]
    },
    {
     "name": "stdout",
     "output_type": "stream",
     "text": [
      "\n",
      "\tProceso con PID =  16944 \n",
      "\tHilo PRINCIPAL con ID = MainThread \n",
      "\tHilo en modo DAEMON =  False \n",
      "\tTotal Hilos activos en este punto del programa = 6\n",
      "\n",
      "Hilo RECIBIR con ID = Thread-5 (recibir) \n",
      "\tPertenece al PROCESO con PID 16944 \n",
      "\tHilos activos TOTALES  7\n"
     ]
    }
   ],
   "source": [
    "import threading\n",
    "import sys\n",
    "import socket\n",
    "import pickle\n",
    "import os\n",
    "\n",
    "class Cliente():\n",
    "\n",
    "\tdef __init__(self, host=input(\"Intoduzca la IP del servidor ?  \"), port=int(input(\"Intoduzca el PUERTO del servidor ?  \")), nick = \"\"):\n",
    "\t\tself.s = socket.socket()\n",
    "\t\twhile (nick == \"\"):\n",
    "\t\t\tnick = input (\"Introduce tu nombre de usuario: \")\n",
    "\t\tself.nick = nick\n",
    "\t\twith open(\"nicknameList.txt\", \"a\") as f:\n",
    "\t\t\tf.write(self.nick + \"\\n\")\n",
    "\t\tself.s.connect((host, int(port)))\n",
    "        \n",
    "        \n",
    "\t\tprint('\\n\\tProceso con PID = ',os.getpid(), '\\n\\tHilo PRINCIPAL con ID =',threading.currentThread().getName(), '\\n\\tHilo en modo DAEMON = ', threading.currentThread().isDaemon(),'\\n\\tTotal Hilos activos en este punto del programa =', threading.active_count())\n",
    "\t\tthreading.Thread(target=self.recibir, daemon=True).start()\n",
    "\n",
    "\t\twhile True:\n",
    "\t\t\tmsg = input('\\nEscriba texto ?   ** Enviar = ENTER   ** Salir Chat = 1 \\n')\n",
    "\t\t\tif msg != '1' : self.enviar(msg)\n",
    "\t\t\telse:\n",
    "\t\t\t\tprint(\" **** Me piro vampiro; cierro socket y mato al CLIENTE con PID = \", os.getpid())\n",
    "\t\t\t\tself.s.close()\n",
    "\t\t\t\tsys.exit()\n",
    "                \n",
    "\t\t\twith open(\"nicknameList.txt\", \"a\") as f:\n",
    "\t\t\t\tnick = input(\"Ingrese su nickname\")\n",
    "\t\t\t\tmsg = input(\"Escriba el mensaje\")\n",
    "\t\t\t\tf.write(\"\\n\" + nick + \"~\" + msg)\n",
    "\n",
    "\tnick = input(\"Ingrese su nickname ?\")\n",
    "\tnick\n",
    "\tmsg = input(\"Escriba el mensaje \")\n",
    "    \n",
    "\tdef recibir(self):\n",
    "\t\tprint('\\nHilo RECIBIR con ID =',threading.currentThread().getName(), '\\n\\tPertenece al PROCESO con PID', os.getpid(), \"\\n\\tHilos activos TOTALES \", threading.active_count())\n",
    "\t\twhile True:\n",
    "\t\t\ttry:\n",
    "\t\t\t\tdata = self.s.recv(32)\n",
    "\t\t\t\tif data: print(pickle.loads(data))\n",
    "\t\t\texcept: pass\n",
    "\n",
    "\tdef enviar(self, msg):\n",
    "\t\tself.s.send(pickle.dumps(msg))\n",
    "\n",
    "arrancar = Cliente()"
   ]
  },
  {
   "cell_type": "code",
   "execution_count": null,
   "id": "b9d05601-fce0-489f-a869-d9462aa70d70",
   "metadata": {},
   "outputs": [],
   "source": []
  }
 ],
 "metadata": {
  "kernelspec": {
   "display_name": "Python 3 (ipykernel)",
   "language": "python",
   "name": "python3"
  },
  "language_info": {
   "codemirror_mode": {
    "name": "ipython",
    "version": 3
   },
   "file_extension": ".py",
   "mimetype": "text/x-python",
   "name": "python",
   "nbconvert_exporter": "python",
   "pygments_lexer": "ipython3",
   "version": "3.10.7"
  }
 },
 "nbformat": 4,
 "nbformat_minor": 5
}
