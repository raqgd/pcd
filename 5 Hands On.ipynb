{
 "cells": [
  {
   "cell_type": "markdown",
   "id": "c56a14db-79e9-4256-9d46-3d1ef7231362",
   "metadata": {},
   "source": [
    "<!-- PROFILE LINK -->\n",
    "\n",
    "<h1 style = \"text-align:center; font-size: 30px\">PROGRAMACIÓN CONCURRENTE Y DISTRIBUIDA</h1>\n",
    "<a href =\"https://github.com/raqgd\">\n",
    "<img src=\"https://avatars.githubusercontent.com/u/99642900?s=400&u=2c79dd083dcd95c3a59aaa83b58734ec3e2fe00b&v=4\" style=\"float:left;vertical-align:centre\" width=\"110\" height=\"110\" title = \"Raquel García Domínguez 221A4694\">\n",
    "<a href =\"https://github.com/raqgd/pcd.git\">\n",
    "<img src=\"https://media-exp1.licdn.com/dms/image/C4D0BAQEu_Aa76fcmPw/company-logo_200_200/0/1630998679429?e=2159024400&v=beta&t=2feC9GG7RWCWizTqsK5HzDWB1TL2DOQuAVwnMf6FFvk\" title = \"M41\" alt=\"UE\" width=\"110\" height=\"110\" style=\"float:right;vertical-align:centre\">"
   ]
  },
  {
   "cell_type": "markdown",
   "id": "7ac18f66-2bec-435d-8718-171e1fa9fc00",
   "metadata": {},
   "source": [
    "# HANDS ON 5"
   ]
  },
  {
   "cell_type": "markdown",
   "id": "2ad27662-0d16-440f-9bce-bf78ac33300e",
   "metadata": {},
   "source": [
    "# Tipos de operaciones sobre files\n",
    "rawx\n",
    "r = read\n",
    "a = apprend\n",
    "w = write\n",
    "x = create"
   ]
  },
  {
   "cell_type": "code",
   "execution_count": 1,
   "id": "e23f9041-2074-4962-88fd-8fd651ff16e5",
   "metadata": {},
   "outputs": [],
   "source": [
    "ls 22194694.txt"
   ]
  },
  {
   "cell_type": "code",
   "execution_count": null,
   "id": "ee550c09-7f15-4165-b771-f4e54c254aab",
   "metadata": {},
   "outputs": [],
   "source": [
    "while True:\n",
    "    with open(\"22194694.txt\", \"a\") as f:\n",
    "        nick = input(\"Ingrese su nickname\")\n",
    "        msg = input(\"Escriba el mensaje\")\n",
    "        f.write(\"\\n\" + nick + \"~\" + msg)"
   ]
  },
  {
   "cell_type": "code",
   "execution_count": 26,
   "id": "0616223c-80f5-453b-81bf-87afd1b08ddc",
   "metadata": {},
   "outputs": [
    {
     "name": "stdin",
     "output_type": "stream",
     "text": [
      "Escriba el mensaje  hola\n"
     ]
    }
   ],
   "source": [
    "msg = input(\"Escriba el mensaje \")"
   ]
  },
  {
   "cell_type": "code",
   "execution_count": null,
   "id": "2453313a-2270-40e1-8439-e505514ed91e",
   "metadata": {},
   "outputs": [
    {
     "data": {
      "text/plain": [
       "'raquel'"
      ]
     },
     "execution_count": 25,
     "metadata": {},
     "output_type": "execute_result"
    }
   ],
   "source": [
    "nick"
   ]
  },
  {
   "cell_type": "code",
   "execution_count": 24,
   "id": "9c485ccc-86e7-4703-9773-48604ffee345",
   "metadata": {},
   "outputs": [
    {
     "name": "stdin",
     "output_type": "stream",
     "text": [
      "Ingrese su nickname ? raquel\n"
     ]
    }
   ],
   "source": [
    "nick = input(\"Ingrese su nickname ?\")"
   ]
  }
 ],
 "metadata": {
  "kernelspec": {
   "display_name": "Python 3 (ipykernel)",
   "language": "python",
   "name": "python3"
  },
  "language_info": {
   "codemirror_mode": {
    "name": "ipython",
    "version": 3
   },
   "file_extension": ".py",
   "mimetype": "text/x-python",
   "name": "python",
   "nbconvert_exporter": "python",
   "pygments_lexer": "ipython3",
   "version": "3.10.7"
  }
 },
 "nbformat": 4,
 "nbformat_minor": 5
}
