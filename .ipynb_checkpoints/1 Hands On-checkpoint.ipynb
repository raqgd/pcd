{
 "cells": [
  {
   "cell_type": "code",
   "execution_count": 16,
   "id": "a6846254-a811-4f4a-862d-2db94881dcc0",
   "metadata": {},
   "outputs": [
    {
     "ename": "SyntaxError",
     "evalue": "invalid syntax (3955697244.py, line 1)",
     "output_type": "error",
     "traceback": [
      "\u001b[1;36m  Cell \u001b[1;32mIn [17], line 1\u001b[1;36m\u001b[0m\n\u001b[1;33m    <!-- PROFILE LINK -->\u001b[0m\n\u001b[1;37m    ^\u001b[0m\n\u001b[1;31mSyntaxError\u001b[0m\u001b[1;31m:\u001b[0m invalid syntax\n"
     ]
    }
   ],
   "source": [
    "<!-- PROFILE LINK -->\n",
    "\n",
    "<h1 style = \"text-align:center; font-size: 30px\">PROGRAMACIÓN CONCURRENTE Y DISTRIBUIDA</h1>\n",
    "<a href =\"https://github.com/raqgd\">\n",
    "<img src=\"https://avatars.githubusercontent.com/u/99642900?s=400&u=2c79dd083dcd95c3a59aaa83b58734ec3e2fe00b&v=4\" style=\"float:left;vertical-align:centre\" width=\"110\" height=\"110\" title = \"Raquel García Domínguez 221A4694\">\n",
    "<a href =\"https://github.com/raqgd/pcd.git\">\n",
    "<img src=\"https://media-exp1.licdn.com/dms/image/C4D0BAQEu_Aa76fcmPw/company-logo_200_200/0/1630998679429?e=2159024400&v=beta&t=2feC9GG7RWCWizTqsK5HzDWB1TL2DOQuAVwnMf6FFvk\" title = \"M41\" alt=\"UE\" width=\"110\" height=\"110\" style=\"float:right;vertical-align:centre\">"
   ]
  },
  {
   "cell_type": "markdown",
   "id": "8ca942dc-bb5d-4ec3-b69d-a31520bf0890",
   "metadata": {},
   "source": [
    "# Hands On 1"
   ]
  },
  {
   "cell_type": "markdown",
   "id": "1da9ede9-3466-4713-83b7-053bb06fe54a",
   "metadata": {},
   "source": [
    "## Env. Setup, Important commands "
   ]
  },
  {
   "cell_type": "code",
   "execution_count": 2,
   "id": "762fbf82-1158-4dae-8dd6-163c21d48c69",
   "metadata": {},
   "outputs": [
    {
     "name": "stdout",
     "output_type": "stream",
     "text": [
      " El volumen de la unidad C es Windows-SSD\n",
      " El n£mero de serie del volumen es: 087A-842A\n",
      "\n",
      " Directorio de C:\\Users\\Raque\\pcd_Practicas\n",
      "\n",
      "30/11/2022  22:47    <DIR>          .\n",
      "30/11/2022  21:11    <DIR>          ..\n",
      "30/11/2022  22:44    <DIR>          .ipynb_checkpoints\n",
      "16/11/2022  18:20               104 22194694.txt\n",
      "03/11/2022  18:54    <DIR>          chat\n",
      "18/11/2022  23:52    <DIR>          chat_AI1\n",
      "29/09/2022  17:36            16.391 Hands On 3 (2).ipynb\n",
      "29/09/2022  17:36            16.391 Hands On 3.ipynb\n",
      "27/10/2022  17:04             1.822 Hands On 4.ipynb\n",
      "13/10/2022  17:55            15.170 partePractica_Raquel.ipynb\n",
      "30/11/2022  21:11    <DIR>          PCD\n",
      "18/11/2022  23:45               184 README.md\n",
      "06/10/2022  17:02            75.987 status_codes.png\n",
      "30/11/2022  22:47                72 Untitled.ipynb\n",
      "13/10/2022  17:54           170.831 Untitled1.ipynb\n",
      "27/10/2022  17:04             1.822 Untitled2.ipynb\n",
      "16/11/2022  18:22             8.230 Untitled3.ipynb\n",
      "16/11/2022  19:03             3.541 Untitled4.ipynb\n",
      "              12 archivos        310.545 bytes\n",
      "               6 dirs  314.488.709.120 bytes libres\n"
     ]
    }
   ],
   "source": [
    "ls"
   ]
  },
  {
   "cell_type": "code",
   "execution_count": 3,
   "id": "eb9f7dfc-cb22-4811-942e-c63cefdd50c4",
   "metadata": {},
   "outputs": [
    {
     "data": {
      "text/plain": [
       "'C:\\\\Users\\\\Raque\\\\pcd_Practicas'"
      ]
     },
     "execution_count": 3,
     "metadata": {},
     "output_type": "execute_result"
    }
   ],
   "source": [
    "pwd"
   ]
  },
  {
   "cell_type": "code",
   "execution_count": 4,
   "id": "44c58129-06a4-433d-b677-6cf3e2b62875",
   "metadata": {},
   "outputs": [
    {
     "name": "stdout",
     "output_type": "stream",
     "text": [
      "On branch main\n",
      "Your branch is up to date with 'origin/main'.\n",
      "\n",
      "nothing to commit, working tree clean\n"
     ]
    }
   ],
   "source": [
    "!git status info # Ver el estado del repositorio de github"
   ]
  },
  {
   "cell_type": "code",
   "execution_count": 5,
   "id": "f2b698ce-59ae-47c2-a80f-25fce8cc8fed",
   "metadata": {},
   "outputs": [],
   "source": [
    "import os # Importa la librería de sistema operativo"
   ]
  },
  {
   "cell_type": "code",
   "execution_count": 6,
   "id": "f3e77e6f-b820-4438-b805-fc2675b600f1",
   "metadata": {},
   "outputs": [
    {
     "data": {
      "text/plain": [
       "8"
      ]
     },
     "execution_count": 6,
     "metadata": {},
     "output_type": "execute_result"
    }
   ],
   "source": [
    "os.cpu_count() # Muestra la lista de cores"
   ]
  },
  {
   "cell_type": "code",
   "execution_count": 7,
   "id": "d9d31075-8a74-42ec-a87a-bc530626b093",
   "metadata": {},
   "outputs": [
    {
     "data": {
      "text/plain": [
       "31344"
      ]
     },
     "execution_count": 7,
     "metadata": {},
     "output_type": "execute_result"
    }
   ],
   "source": [
    "os.getpid() # Muestra los recursos que está usando el programa"
   ]
  },
  {
   "cell_type": "code",
   "execution_count": 8,
   "id": "ede8e5d1-0628-495f-a396-4d723ea1844e",
   "metadata": {},
   "outputs": [],
   "source": [
    "import platform as pl"
   ]
  },
  {
   "cell_type": "code",
   "execution_count": 9,
   "id": "c0caa6c9-1eff-4842-9156-f96070276f03",
   "metadata": {},
   "outputs": [
    {
     "data": {
      "text/plain": [
       "'3.10.7'"
      ]
     },
     "execution_count": 9,
     "metadata": {},
     "output_type": "execute_result"
    }
   ],
   "source": [
    "pl.python_version()"
   ]
  },
  {
   "cell_type": "code",
   "execution_count": 10,
   "id": "6c9379e5-5cd4-4ca9-a6c8-09850b793976",
   "metadata": {},
   "outputs": [
    {
     "data": {
      "text/plain": [
       "'C:\\\\Users\\\\Raque\\\\pcd_Practicas'"
      ]
     },
     "execution_count": 10,
     "metadata": {},
     "output_type": "execute_result"
    }
   ],
   "source": [
    "pwd"
   ]
  },
  {
   "cell_type": "code",
   "execution_count": null,
   "id": "61366782-b9d4-4163-a05a-f543db1449fe",
   "metadata": {},
   "outputs": [],
   "source": []
  }
 ],
 "metadata": {
  "kernelspec": {
   "display_name": "Python 3 (ipykernel)",
   "language": "python",
   "name": "python3"
  },
  "language_info": {
   "codemirror_mode": {
    "name": "ipython",
    "version": 3
   },
   "file_extension": ".py",
   "mimetype": "text/x-python",
   "name": "python",
   "nbconvert_exporter": "python",
   "pygments_lexer": "ipython3",
   "version": "3.10.7"
  }
 },
 "nbformat": 4,
 "nbformat_minor": 5
}
