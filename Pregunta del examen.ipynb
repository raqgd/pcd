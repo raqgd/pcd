{
 "cells": [
  {
   "cell_type": "markdown",
   "id": "448a37ef-446f-4a15-9fd7-e9dd0f645170",
   "metadata": {},
   "source": [
    "# Pregunta del examen"
   ]
  },
  {
   "cell_type": "code",
   "execution_count": 1,
   "id": "990af17e-12f4-4779-976c-425dedc016bf",
   "metadata": {},
   "outputs": [],
   "source": [
    "import socket as sc"
   ]
  },
  {
   "cell_type": "code",
   "execution_count": 5,
   "id": "9939e822-5379-417f-b44e-219f094b06b3",
   "metadata": {},
   "outputs": [
    {
     "data": {
      "text/plain": [
       "('LAPTOP-SLIEAL2K', [], ['192.168.83.1', '192.168.189.1', '10.34.80.61'])"
      ]
     },
     "execution_count": 5,
     "metadata": {},
     "output_type": "execute_result"
    }
   ],
   "source": [
    "sc.gethostbyname_ex(sc.gethostname())"
   ]
  },
  {
   "cell_type": "code",
   "execution_count": null,
   "id": "ceae3857-fdbd-4a07-b687-279fd5948c4b",
   "metadata": {},
   "outputs": [],
   "source": [
    "ping 10.34.80.61"
   ]
  },
  {
   "cell_type": "code",
   "execution_count": 10,
   "id": "b01bfa9e-85e9-4c31-9f71-89419f4f65b9",
   "metadata": {},
   "outputs": [],
   "source": [
    "url_=\"www.universidadeuropea.es\""
   ]
  },
  {
   "cell_type": "code",
   "execution_count": 11,
   "id": "3d0b74cc-a2b9-4de3-8a64-e5fb272e9182",
   "metadata": {},
   "outputs": [],
   "source": [
    "s=sc.socket()"
   ]
  },
  {
   "cell_type": "code",
   "execution_count": 15,
   "id": "a801b012-c58a-43b7-af27-3b3015643ef7",
   "metadata": {},
   "outputs": [
    {
     "ename": "TimeoutError",
     "evalue": "[WinError 10060] Se produjo un error durante el intento de conexión ya que la parte conectada no respondió adecuadamente tras un periodo de tiempo, o bien se produjo un error en la conexión establecida ya que el host conectado no ha podido responder",
     "output_type": "error",
     "traceback": [
      "\u001b[1;31m---------------------------------------------------------------------------\u001b[0m",
      "\u001b[1;31mTimeoutError\u001b[0m                              Traceback (most recent call last)",
      "Cell \u001b[1;32mIn [15], line 1\u001b[0m\n\u001b[1;32m----> 1\u001b[0m \u001b[43ms\u001b[49m\u001b[38;5;241;43m.\u001b[39;49m\u001b[43mconnect\u001b[49m\u001b[43m(\u001b[49m\u001b[43m(\u001b[49m\u001b[38;5;124;43m\"\u001b[39;49m\u001b[38;5;124;43mwww.universidadeuropea.es\u001b[39;49m\u001b[38;5;124;43m\"\u001b[39;49m\u001b[43m,\u001b[49m\u001b[43m \u001b[49m\u001b[38;5;241;43m45477\u001b[39;49m\u001b[43m)\u001b[49m\u001b[43m)\u001b[49m\n",
      "\u001b[1;31mTimeoutError\u001b[0m: [WinError 10060] Se produjo un error durante el intento de conexión ya que la parte conectada no respondió adecuadamente tras un periodo de tiempo, o bien se produjo un error en la conexión establecida ya que el host conectado no ha podido responder"
     ]
    }
   ],
   "source": [
    "s.connect((\"www.universidadeuropea.es\", 45477))"
   ]
  },
  {
   "cell_type": "code",
   "execution_count": null,
   "id": "d9173fee-b22c-45c8-bc0e-1b87327257ca",
   "metadata": {},
   "outputs": [],
   "source": []
  }
 ],
 "metadata": {
  "kernelspec": {
   "display_name": "Python 3 (ipykernel)",
   "language": "python",
   "name": "python3"
  },
  "language_info": {
   "codemirror_mode": {
    "name": "ipython",
    "version": 3
   },
   "file_extension": ".py",
   "mimetype": "text/x-python",
   "name": "python",
   "nbconvert_exporter": "python",
   "pygments_lexer": "ipython3",
   "version": "3.10.7"
  }
 },
 "nbformat": 4,
 "nbformat_minor": 5
}
