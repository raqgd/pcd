{
 "cells": [
  {
   "cell_type": "markdown",
   "id": "0ea633f0-67be-4892-9133-024593fe62de",
   "metadata": {},
   "source": [
    "<!-- PROFILE LINK -->\n",
    "\n",
    "<h1 style = \"text-align:center; font-size: 30px\">PROGRAMACIÓN CONCURRENTE Y DISTRIBUIDA</h1>\n",
    "<a href =\"https://github.com/raqgd\">\n",
    "<img src=\"https://avatars.githubusercontent.com/u/99642900?s=400&u=2c79dd083dcd95c3a59aaa83b58734ec3e2fe00b&v=4\" style=\"float:left;vertical-align:centre\" width=\"110\" height=\"110\" title = \"Raquel García Domínguez 221A4694\">\n",
    "<a href =\"https://github.com/raqgd?tab=repositories\">\n",
    "<img src=\"https://media-exp1.licdn.com/dms/image/C4D0BAQEu_Aa76fcmPw/company-logo_200_200/0/1630998679429?e=2159024400&v=beta&t=2feC9GG7RWCWizTqsK5HzDWB1TL2DOQuAVwnMf6FFvk\" title = \"M41\" alt=\"UE\" width=\"110\" height=\"110\" style=\"float:right;vertical-align:centre\">"
   ]
  },
  {
   "cell_type": "markdown",
   "id": "0a3cc017-c231-4c95-9ed9-0a304f5a205a",
   "metadata": {},
   "source": [
    "# Hands on 4"
   ]
  },
  {
   "cell_type": "markdown",
   "id": "e4cb9854-8857-42c2-b856-3b10b40f77ac",
   "metadata": {},
   "source": [
    "import socket as sc"
   ]
  },
  {
   "cell_type": "code",
   "execution_count": null,
   "id": "a4b61343-bd26-4190-97cf-efe1b9dbc9c2",
   "metadata": {},
   "outputs": [],
   "source": []
  }
 ],
 "metadata": {
  "kernelspec": {
   "display_name": "Python 3 (ipykernel)",
   "language": "python",
   "name": "python3"
  },
  "language_info": {
   "codemirror_mode": {
    "name": "ipython",
    "version": 3
   },
   "file_extension": ".py",
   "mimetype": "text/x-python",
   "name": "python",
   "nbconvert_exporter": "python",
   "pygments_lexer": "ipython3",
   "version": "3.10.7"
  }
 },
 "nbformat": 4,
 "nbformat_minor": 5
}
