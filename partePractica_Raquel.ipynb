{
 "cells": [
  {
   "cell_type": "markdown",
   "id": "6330eab0-6617-4895-9c54-218687d24c47",
   "metadata": {},
   "source": [
    "<!-- PROFILE LINK -->\n",
    "\n",
    "<h1 style = \"text-align:center; font-size: 30px\">PROGRAMACIÓN CONCURRENTE Y DISTRIBUIDA</h1>\n",
    "<a href =\"https://github.com/raqgd\">\n",
    "<img src=\"https://avatars.githubusercontent.com/u/99642900?s=400&u=2c79dd083dcd95c3a59aaa83b58734ec3e2fe00b&v=4\" style=\"float:left;vertical-align:centre\" width=\"110\" height=\"110\" title = \"Raquel García Domínguez 221A4694\">\n",
    "<a href =\"https://github.com/raqgd?tab=repositories\">\n",
    "<img src=\"https://media-exp1.licdn.com/dms/image/C4D0BAQEu_Aa76fcmPw/company-logo_200_200/0/1630998679429?e=2159024400&v=beta&t=2feC9GG7RWCWizTqsK5HzDWB1TL2DOQuAVwnMf6FFvk\" title = \"M41\" alt=\"UE\" width=\"110\" height=\"110\" style=\"float:right;vertical-align:centre\">"
   ]
  },
  {
   "cell_type": "markdown",
   "id": "52015c32-7b30-4ec8-834b-7c130ba8d200",
   "metadata": {},
   "source": [
    "## Parte 1"
   ]
  },
  {
   "cell_type": "code",
   "execution_count": 2,
   "id": "db47a404-f523-49cf-ae4d-319b0b0a4698",
   "metadata": {},
   "outputs": [],
   "source": [
    "import threading, os, platform, requests, json"
   ]
  },
  {
   "cell_type": "code",
   "execution_count": 41,
   "id": "7e8589af-d559-45de-9549-b8725dea2306",
   "metadata": {},
   "outputs": [],
   "source": [
    "numero_github = 100"
   ]
  },
  {
   "cell_type": "code",
   "execution_count": 43,
   "id": "5d643784-2f88-48a4-8de2-ce8be679df19",
   "metadata": {},
   "outputs": [],
   "source": [
    "numero_linkedin = 50"
   ]
  },
  {
   "cell_type": "code",
   "execution_count": 44,
   "id": "62ceeab0-07d5-4a84-8898-0c442a0ea28d",
   "metadata": {},
   "outputs": [],
   "source": [
    "numero_credly = 20"
   ]
  },
  {
   "cell_type": "code",
   "execution_count": 45,
   "id": "78c83f3c-3f8f-4f07-885c-877dbeb8fa16",
   "metadata": {},
   "outputs": [],
   "source": [
    "numero_stackoverflow = 30"
   ]
  },
  {
   "cell_type": "code",
   "execution_count": 46,
   "id": "c132b73a-2fb6-436a-a32a-9d56590bd626",
   "metadata": {},
   "outputs": [],
   "source": [
    "numero_cloudskillsboost = 20"
   ]
  },
  {
   "cell_type": "code",
   "execution_count": 30,
   "id": "6fe2da63-f988-48e5-be2b-4907dde737bd",
   "metadata": {},
   "outputs": [],
   "source": [
    "url_git = \"https://github.com/sukuzhanay\""
   ]
  },
  {
   "cell_type": "code",
   "execution_count": 31,
   "id": "8441504a-448c-4d9e-a0d4-01c95b93c54f",
   "metadata": {},
   "outputs": [],
   "source": [
    "url_linkedin = \"https://www.linkedin.com/in/sucuzhanay/\""
   ]
  },
  {
   "cell_type": "code",
   "execution_count": 32,
   "id": "6d0c8000-6c0d-449c-aaa5-439e8cfb37d0",
   "metadata": {},
   "outputs": [],
   "source": [
    "url_credly = \"https://www.credly.com/users/christian-vladimir-sucuzhanay-arevalo/badges\""
   ]
  },
  {
   "cell_type": "code",
   "execution_count": 33,
   "id": "72570c56-24ca-4589-ab8c-803891957c29",
   "metadata": {},
   "outputs": [],
   "source": [
    "url_stackoverflow = \"https://stackoverflow.com/users/6025932/christian-vladimir-sucuzhanay\""
   ]
  },
  {
   "cell_type": "code",
   "execution_count": 34,
   "id": "2f170369-75a5-4f9b-a444-fbc2a3db1c93",
   "metadata": {},
   "outputs": [],
   "source": [
    "url_cloudskillsboost = \"https://www.cloudskillsboost.google/public_profiles/c094dd66-f266-4f77-a808-a0601b187009\""
   ]
  },
  {
   "cell_type": "code",
   "execution_count": 35,
   "id": "36d03e39-adbe-450d-8d22-8fe211660c30",
   "metadata": {},
   "outputs": [],
   "source": [
    "def atacar_github():\n",
    "    print(requests.get(url_git))\n",
    "    threading.current_thread()"
   ]
  },
  {
   "cell_type": "code",
   "execution_count": 36,
   "id": "837c9430-8458-41b6-8b50-428c382caf2f",
   "metadata": {},
   "outputs": [],
   "source": [
    "def atacar_linkedin():\n",
    "    print(requests.get(url_linkedin))\n",
    "    threading.current_thread()"
   ]
  },
  {
   "cell_type": "code",
   "execution_count": 37,
   "id": "edc44f48-a780-4ee5-9967-e130f2bb0cf8",
   "metadata": {},
   "outputs": [],
   "source": [
    "def atacar_credly():\n",
    "    print(requests.get(url_credly))\n",
    "    threading.current_thread()"
   ]
  },
  {
   "cell_type": "code",
   "execution_count": 38,
   "id": "e124fab9-1595-4757-b2a0-313c191e24f0",
   "metadata": {},
   "outputs": [],
   "source": [
    "def atacar_stackoverflow():\n",
    "    print(requests.get(url_stackoverflow))\n",
    "    threading.current_thread()"
   ]
  },
  {
   "cell_type": "code",
   "execution_count": 39,
   "id": "9de50c95-3e71-499a-9c6a-a9140d3decec",
   "metadata": {},
   "outputs": [],
   "source": [
    "def atacar_cloudskillsboost():\n",
    "    print(requests.get(url_cloudskillsboost))\n",
    "    threading.current_thread()"
   ]
  },
  {
   "cell_type": "code",
   "execution_count": 42,
   "id": "e501b589-d007-4add-a97f-0562f477e2ff",
   "metadata": {},
   "outputs": [
    {
     "name": "stdout",
     "output_type": "stream",
     "text": [
      "<Response [200]>\n",
      "<Response [200]>\n",
      "<Response [200]>\n",
      "<Response [200]>\n",
      "<Response [200]>\n",
      "<Response [200]>\n",
      "<Response [200]>\n",
      "<Response [200]>\n",
      "<Response [200]>\n",
      "<Response [200]>\n",
      "<Response [200]>\n",
      "<Response [200]>\n",
      "<Response [200]>\n",
      "<Response [200]>\n",
      "<Response [200]>\n",
      "<Response [200]>\n",
      "<Response [200]>\n",
      "<Response [200]>\n",
      "<Response [200]>\n",
      "<Response [200]>\n",
      "<Response [200]>\n",
      "<Response [200]>\n",
      "<Response [200]>\n",
      "<Response [200]>\n",
      "<Response [200]>\n",
      "<Response [200]>\n",
      "<Response [200]>\n",
      "<Response [200]>\n",
      "<Response [200]>\n",
      "<Response [200]>\n",
      "<Response [200]>\n",
      "<Response [200]>\n",
      "<Response [200]>\n",
      "<Response [200]>\n",
      "<Response [200]>\n",
      "<Response [200]>\n",
      "<Response [429]>\n",
      "<Response [429]>\n",
      "<Response [429]>\n",
      "<Response [429]>\n",
      "<Response [429]>\n",
      "<Response [429]>\n",
      "<Response [429]>\n",
      "<Response [429]>\n",
      "<Response [429]>\n",
      "<Response [429]>\n",
      "<Response [429]>\n",
      "<Response [429]>\n",
      "<Response [429]>\n",
      "<Response [429]>\n",
      "<Response [429]>\n",
      "<Response [429]>\n",
      "<Response [429]>\n",
      "<Response [429]>\n",
      "<Response [429]>\n",
      "<Response [429]>\n",
      "<Response [429]>\n",
      "<Response [429]>\n",
      "<Response [429]>\n",
      "<Response [429]>\n",
      "<Response [429]>\n",
      "<Response [429]>\n",
      "<Response [429]>\n",
      "<Response [429]>\n",
      "<Response [429]>\n",
      "<Response [429]>\n",
      "<Response [429]>\n",
      "<Response [429]>\n",
      "<Response [429]>\n",
      "<Response [429]>\n",
      "<Response [429]>\n",
      "<Response [429]>\n",
      "<Response [429]>\n",
      "<Response [429]>\n",
      "<Response [429]>\n",
      "<Response [429]>\n",
      "<Response [429]>\n",
      "<Response [429]>\n",
      "<Response [429]>\n",
      "<Response [429]>\n",
      "<Response [429]>\n",
      "<Response [429]>\n",
      "<Response [429]>\n",
      "<Response [429]>\n",
      "<Response [429]>\n",
      "<Response [429]>\n",
      "<Response [429]>\n",
      "<Response [429]>\n",
      "<Response [429]>\n",
      "<Response [429]>\n",
      "<Response [429]>\n",
      "<Response [429]>\n",
      "<Response [429]>\n",
      "<Response [429]>\n",
      "<Response [429]>\n",
      "<Response [429]>\n",
      "<Response [429]>\n",
      "<Response [429]>\n",
      "<Response [429]>\n",
      "<Response [429]>\n"
     ]
    }
   ],
   "source": [
    "for i in range (numero_github):\n",
    "    threading.Thread(target=atacar_github()).start()"
   ]
  },
  {
   "cell_type": "code",
   "execution_count": 47,
   "id": "b40123c9-586f-494b-be7f-307de7d635b1",
   "metadata": {},
   "outputs": [
    {
     "name": "stdout",
     "output_type": "stream",
     "text": [
      "<Response [999]>\n",
      "<Response [999]>\n",
      "<Response [999]>\n",
      "<Response [999]>\n",
      "<Response [999]>\n",
      "<Response [999]>\n",
      "<Response [999]>\n",
      "<Response [999]>\n",
      "<Response [999]>\n",
      "<Response [999]>\n",
      "<Response [999]>\n",
      "<Response [999]>\n",
      "<Response [999]>\n",
      "<Response [999]>\n",
      "<Response [999]>\n",
      "<Response [999]>\n",
      "<Response [999]>\n",
      "<Response [999]>\n",
      "<Response [999]>\n",
      "<Response [999]>\n",
      "<Response [999]>\n",
      "<Response [999]>\n",
      "<Response [999]>\n",
      "<Response [999]>\n",
      "<Response [999]>\n",
      "<Response [999]>\n",
      "<Response [999]>\n",
      "<Response [999]>\n",
      "<Response [999]>\n",
      "<Response [999]>\n",
      "<Response [999]>\n",
      "<Response [999]>\n",
      "<Response [999]>\n",
      "<Response [999]>\n",
      "<Response [999]>\n",
      "<Response [999]>\n",
      "<Response [999]>\n",
      "<Response [999]>\n",
      "<Response [999]>\n",
      "<Response [999]>\n",
      "<Response [999]>\n",
      "<Response [999]>\n",
      "<Response [999]>\n",
      "<Response [999]>\n",
      "<Response [999]>\n",
      "<Response [999]>\n",
      "<Response [999]>\n",
      "<Response [999]>\n",
      "<Response [999]>\n",
      "<Response [999]>\n"
     ]
    }
   ],
   "source": [
    "for i in range (numero_linkedin):\n",
    "    threading.Thread(target=atacar_linkedin()).start()"
   ]
  },
  {
   "cell_type": "code",
   "execution_count": 48,
   "id": "6bfa3832-ece4-46b5-a285-f1c4119e7bef",
   "metadata": {},
   "outputs": [
    {
     "name": "stdout",
     "output_type": "stream",
     "text": [
      "<Response [200]>\n",
      "<Response [200]>\n",
      "<Response [200]>\n",
      "<Response [200]>\n",
      "<Response [200]>\n",
      "<Response [200]>\n",
      "<Response [200]>\n",
      "<Response [200]>\n",
      "<Response [200]>\n",
      "<Response [200]>\n",
      "<Response [200]>\n",
      "<Response [200]>\n",
      "<Response [200]>\n",
      "<Response [200]>\n",
      "<Response [200]>\n",
      "<Response [200]>\n",
      "<Response [200]>\n",
      "<Response [200]>\n",
      "<Response [200]>\n",
      "<Response [200]>\n"
     ]
    }
   ],
   "source": [
    "for i in range (numero_credly):\n",
    "    threading.Thread(target=atacar_credly()).start()"
   ]
  },
  {
   "cell_type": "code",
   "execution_count": 49,
   "id": "089839c1-7b7a-4e5b-8a45-791f087a165d",
   "metadata": {},
   "outputs": [
    {
     "name": "stdout",
     "output_type": "stream",
     "text": [
      "<Response [200]>\n",
      "<Response [200]>\n",
      "<Response [200]>\n",
      "<Response [200]>\n",
      "<Response [200]>\n",
      "<Response [200]>\n",
      "<Response [200]>\n",
      "<Response [200]>\n",
      "<Response [200]>\n",
      "<Response [200]>\n",
      "<Response [200]>\n",
      "<Response [200]>\n",
      "<Response [200]>\n",
      "<Response [200]>\n",
      "<Response [200]>\n",
      "<Response [200]>\n",
      "<Response [200]>\n",
      "<Response [200]>\n",
      "<Response [200]>\n",
      "<Response [200]>\n",
      "<Response [200]>\n",
      "<Response [200]>\n",
      "<Response [200]>\n",
      "<Response [200]>\n",
      "<Response [200]>\n",
      "<Response [200]>\n",
      "<Response [200]>\n",
      "<Response [200]>\n",
      "<Response [200]>\n",
      "<Response [200]>\n"
     ]
    }
   ],
   "source": [
    "for i in range (numero_stackoverflow):\n",
    "    threading.Thread(target=atacar_stackoverflow()).start()"
   ]
  },
  {
   "cell_type": "code",
   "execution_count": 50,
   "id": "e07d5bac-b726-4003-af58-c7bc3bddc419",
   "metadata": {},
   "outputs": [
    {
     "name": "stdout",
     "output_type": "stream",
     "text": [
      "<Response [200]>\n",
      "<Response [200]>\n",
      "<Response [200]>\n",
      "<Response [200]>\n",
      "<Response [200]>\n",
      "<Response [200]>\n",
      "<Response [200]>\n",
      "<Response [200]>\n",
      "<Response [200]>\n",
      "<Response [200]>\n",
      "<Response [200]>\n",
      "<Response [200]>\n",
      "<Response [200]>\n",
      "<Response [200]>\n",
      "<Response [200]>\n",
      "<Response [200]>\n",
      "<Response [200]>\n",
      "<Response [200]>\n",
      "<Response [200]>\n",
      "<Response [200]>\n"
     ]
    }
   ],
   "source": [
    "for i in range (numero_cloudskillsboost):\n",
    "    threading.Thread(target=atacar_cloudskillsboost()).start()"
   ]
  },
  {
   "cell_type": "markdown",
   "id": "5768194e-374b-4314-9356-3a0dd5f72dc6",
   "metadata": {},
   "source": [
    "## Parte 2"
   ]
  },
  {
   "cell_type": "code",
   "execution_count": 70,
   "id": "cda18bb5-89bf-40c9-901a-9fd7d497b5ee",
   "metadata": {},
   "outputs": [],
   "source": [
    "numero_hilos_para_descargar = 5"
   ]
  },
  {
   "cell_type": "code",
   "execution_count": 75,
   "id": "74f159db-2fe9-47ff-8782-af5d6ea89b05",
   "metadata": {},
   "outputs": [],
   "source": [
    "res_=requests.get(\"https://rpubs.com/christian_sucuzhanay\")"
   ]
  },
  {
   "cell_type": "code",
   "execution_count": 78,
   "id": "17ae0927-64f9-46a3-9628-275d1240789b",
   "metadata": {},
   "outputs": [],
   "source": [
    "def descargar():\n",
    "    print(res_)\n",
    "    threading.current_thread()"
   ]
  },
  {
   "cell_type": "code",
   "execution_count": 79,
   "id": "c4d9d220-8c31-40f9-9e3a-f617c3940fc4",
   "metadata": {},
   "outputs": [
    {
     "name": "stdout",
     "output_type": "stream",
     "text": [
      "<Response [200]>\n",
      "<Response [200]>\n",
      "<Response [200]>\n",
      "<Response [200]>\n",
      "<Response [200]>\n"
     ]
    }
   ],
   "source": [
    "for i in range (numero_hilos_para_descargar):\n",
    "    threading.Thread(target=descargar()).start()"
   ]
  },
  {
   "cell_type": "code",
   "execution_count": null,
   "id": "668ee067-a602-44e4-9839-bf1b168ad6d6",
   "metadata": {},
   "outputs": [],
   "source": []
  },
  {
   "cell_type": "code",
   "execution_count": null,
   "id": "08a302cc-5d6a-4a10-82ca-5dd5697b28d0",
   "metadata": {},
   "outputs": [],
   "source": []
  },
  {
   "cell_type": "code",
   "execution_count": null,
   "id": "f2c19ccb-1e0f-4989-938c-b9ee13f696de",
   "metadata": {},
   "outputs": [],
   "source": []
  }
 ],
 "metadata": {
  "kernelspec": {
   "display_name": "Python 3 (ipykernel)",
   "language": "python",
   "name": "python3"
  },
  "language_info": {
   "codemirror_mode": {
    "name": "ipython",
    "version": 3
   },
   "file_extension": ".py",
   "mimetype": "text/x-python",
   "name": "python",
   "nbconvert_exporter": "python",
   "pygments_lexer": "ipython3",
   "version": "3.10.7"
  }
 },
 "nbformat": 4,
 "nbformat_minor": 5
}
